{
 "cells": [
  {
   "cell_type": "code",
   "execution_count": 1,
   "metadata": {},
   "outputs": [],
   "source": [
    "import pandas as pd\n",
    "import matplotlib.pyplot as plt\n",
    "from scipy.stats import ttest_ind"
   ]
  },
  {
   "cell_type": "code",
   "execution_count": 2,
   "metadata": {},
   "outputs": [],
   "source": [
    "# Baca data dari file CSV\n",
    "file_path_01 = '/datasets/project_sql_result_01.csv'\n",
    "file_path_04 = '/datasets/project_sql_result_04.csv'\n",
    "\n",
    "df_trips_amount = pd.read_csv(file_path_01)\n",
    "df_average_trips = pd.read_csv(file_path_04)"
   ]
  },
  {
   "cell_type": "code",
   "execution_count": 3,
   "metadata": {
    "scrolled": true
   },
   "outputs": [
    {
     "name": "stdout",
     "output_type": "stream",
     "text": [
      "<class 'pandas.core.frame.DataFrame'>\n",
      "RangeIndex: 64 entries, 0 to 63\n",
      "Data columns (total 2 columns):\n",
      " #   Column        Non-Null Count  Dtype \n",
      "---  ------        --------------  ----- \n",
      " 0   company_name  64 non-null     object\n",
      " 1   trips_amount  64 non-null     int64 \n",
      "dtypes: int64(1), object(1)\n",
      "memory usage: 1.1+ KB\n"
     ]
    }
   ],
   "source": [
    "# Cek tipe data dan isi data\n",
    "df_trips_amount.info()"
   ]
  },
  {
   "cell_type": "markdown",
   "metadata": {},
   "source": [
    "Terdapat dua kolom dalam DataFrame ini.\n",
    "\n",
    "Jumlah entri atau baris data dalam DataFrame adalah 64, dan indeksnya memiliki rentang dari 0 hingga 63.\n",
    "\n",
    "company_name: Merupakan kolom yang berisi nama perusahaan taksi. Tidak terdapat nilai yang hilang (non-null count: 64), dan tipe datanya adalah objek (object).\n",
    "\n",
    "trips_amount: Merupakan kolom yang berisi jumlah perjalanan untuk setiap perusahaan taksi pada tanggal 15-16 November 2017. Tidak terdapat nilai yang hilang (non-null count: 64), dan tipe datanya adalah bilangan bulat (int64).\n"
   ]
  },
  {
   "cell_type": "code",
   "execution_count": 4,
   "metadata": {
    "scrolled": true
   },
   "outputs": [
    {
     "data": {
      "text/html": [
       "<div>\n",
       "<style scoped>\n",
       "    .dataframe tbody tr th:only-of-type {\n",
       "        vertical-align: middle;\n",
       "    }\n",
       "\n",
       "    .dataframe tbody tr th {\n",
       "        vertical-align: top;\n",
       "    }\n",
       "\n",
       "    .dataframe thead th {\n",
       "        text-align: right;\n",
       "    }\n",
       "</style>\n",
       "<table border=\"1\" class=\"dataframe\">\n",
       "  <thead>\n",
       "    <tr style=\"text-align: right;\">\n",
       "      <th></th>\n",
       "      <th>company_name</th>\n",
       "      <th>trips_amount</th>\n",
       "    </tr>\n",
       "  </thead>\n",
       "  <tbody>\n",
       "    <tr>\n",
       "      <th>43</th>\n",
       "      <td>2809 - 95474 C &amp; D Cab Co Inc.</td>\n",
       "      <td>29</td>\n",
       "    </tr>\n",
       "    <tr>\n",
       "      <th>23</th>\n",
       "      <td>KOAM Taxi Association</td>\n",
       "      <td>1259</td>\n",
       "    </tr>\n",
       "    <tr>\n",
       "      <th>31</th>\n",
       "      <td>American United Taxi Affiliation</td>\n",
       "      <td>210</td>\n",
       "    </tr>\n",
       "    <tr>\n",
       "      <th>28</th>\n",
       "      <td>5 Star Taxi</td>\n",
       "      <td>310</td>\n",
       "    </tr>\n",
       "    <tr>\n",
       "      <th>58</th>\n",
       "      <td>5062 - 34841 Sam Mestas</td>\n",
       "      <td>8</td>\n",
       "    </tr>\n",
       "    <tr>\n",
       "      <th>6</th>\n",
       "      <td>City Service</td>\n",
       "      <td>8448</td>\n",
       "    </tr>\n",
       "    <tr>\n",
       "      <th>17</th>\n",
       "      <td>Chicago Medallion Management</td>\n",
       "      <td>1955</td>\n",
       "    </tr>\n",
       "    <tr>\n",
       "      <th>37</th>\n",
       "      <td>1469 - 64126 Omar Jada</td>\n",
       "      <td>36</td>\n",
       "    </tr>\n",
       "    <tr>\n",
       "      <th>9</th>\n",
       "      <td>Blue Ribbon Taxi Association Inc.</td>\n",
       "      <td>5953</td>\n",
       "    </tr>\n",
       "    <tr>\n",
       "      <th>22</th>\n",
       "      <td>Chicago Independents</td>\n",
       "      <td>1296</td>\n",
       "    </tr>\n",
       "  </tbody>\n",
       "</table>\n",
       "</div>"
      ],
      "text/plain": [
       "                         company_name  trips_amount\n",
       "43     2809 - 95474 C & D Cab Co Inc.            29\n",
       "23              KOAM Taxi Association          1259\n",
       "31   American United Taxi Affiliation           210\n",
       "28                        5 Star Taxi           310\n",
       "58            5062 - 34841 Sam Mestas             8\n",
       "6                        City Service          8448\n",
       "17       Chicago Medallion Management          1955\n",
       "37             1469 - 64126 Omar Jada            36\n",
       "9   Blue Ribbon Taxi Association Inc.          5953\n",
       "22               Chicago Independents          1296"
      ]
     },
     "execution_count": 4,
     "metadata": {},
     "output_type": "execute_result"
    }
   ],
   "source": [
    "df_trips_amount.sample(10)"
   ]
  },
  {
   "cell_type": "markdown",
   "metadata": {},
   "source": [
    "Hasil ini menunjukkan 10 baris acak (sample) dari DataFrame df_trips_amount. Setiap baris ini mewakili satu entri atau observasi dalam dataset. Berikut adalah penjelasan untuk setiap kolom:\n",
    "\n",
    "company_name: Nama perusahaan taksi. Misalnya, baris pertama menunjukkan bahwa perusahaan \"Leonard Cab Co\" memiliki jumlah perjalanan sebanyak 147 pada tanggal 15-16 November 2017.\n",
    "\n",
    "trips_amount: Jumlah perjalanan untuk setiap perusahaan taksi pada tanggal 15-16 November 2017. Misalnya, baris kedua menunjukkan bahwa perusahaan \"5 Star Taxi\" memiliki jumlah perjalanan sebanyak 310."
   ]
  },
  {
   "cell_type": "code",
   "execution_count": 5,
   "metadata": {
    "scrolled": true
   },
   "outputs": [
    {
     "data": {
      "text/html": [
       "<div>\n",
       "<style scoped>\n",
       "    .dataframe tbody tr th:only-of-type {\n",
       "        vertical-align: middle;\n",
       "    }\n",
       "\n",
       "    .dataframe tbody tr th {\n",
       "        vertical-align: top;\n",
       "    }\n",
       "\n",
       "    .dataframe thead th {\n",
       "        text-align: right;\n",
       "    }\n",
       "</style>\n",
       "<table border=\"1\" class=\"dataframe\">\n",
       "  <thead>\n",
       "    <tr style=\"text-align: right;\">\n",
       "      <th></th>\n",
       "      <th>trips_amount</th>\n",
       "    </tr>\n",
       "  </thead>\n",
       "  <tbody>\n",
       "    <tr>\n",
       "      <th>count</th>\n",
       "      <td>64.000000</td>\n",
       "    </tr>\n",
       "    <tr>\n",
       "      <th>mean</th>\n",
       "      <td>2145.484375</td>\n",
       "    </tr>\n",
       "    <tr>\n",
       "      <th>std</th>\n",
       "      <td>3812.310186</td>\n",
       "    </tr>\n",
       "    <tr>\n",
       "      <th>min</th>\n",
       "      <td>2.000000</td>\n",
       "    </tr>\n",
       "    <tr>\n",
       "      <th>25%</th>\n",
       "      <td>20.750000</td>\n",
       "    </tr>\n",
       "    <tr>\n",
       "      <th>50%</th>\n",
       "      <td>178.500000</td>\n",
       "    </tr>\n",
       "    <tr>\n",
       "      <th>75%</th>\n",
       "      <td>2106.500000</td>\n",
       "    </tr>\n",
       "    <tr>\n",
       "      <th>max</th>\n",
       "      <td>19558.000000</td>\n",
       "    </tr>\n",
       "  </tbody>\n",
       "</table>\n",
       "</div>"
      ],
      "text/plain": [
       "       trips_amount\n",
       "count     64.000000\n",
       "mean    2145.484375\n",
       "std     3812.310186\n",
       "min        2.000000\n",
       "25%       20.750000\n",
       "50%      178.500000\n",
       "75%     2106.500000\n",
       "max    19558.000000"
      ]
     },
     "execution_count": 5,
     "metadata": {},
     "output_type": "execute_result"
    }
   ],
   "source": [
    "df_trips_amount.describe()"
   ]
  },
  {
   "cell_type": "markdown",
   "metadata": {},
   "source": [
    "Hasil dari df_trips_amount.describe() memberikan statistik deskriptif untuk kolom trips_amount dalam DataFrame df_trips_amount. Berikut adalah penjelasan dari setiap statistik yang ditampilkan:\n",
    "\n",
    "Count: Jumlah total entri atau baris dalam kolom trips_amount. Dalam hal ini, terdapat 64 entri.\n",
    "\n",
    "Mean: Rata-rata aritmetika dari nilai-nilai dalam kolom trips_amount. Rata-rata jumlah perjalanan untuk semua perusahaan taksi pada tanggal 15-16 November 2017 adalah sekitar 2145.48.\n",
    "\n",
    "Std (Standard Deviation): Deviasi standar, suatu ukuran seberapa jauh nilai-nilai dalam kolom tersebar dari rata-rata. Nilai ini menunjukkan tingkat variasi dalam jumlah perjalanan. Dalam hal ini, deviasi standar adalah sekitar 3812.31.\n",
    "\n",
    "Min: Nilai minimum dalam kolom trips_amount. Ini adalah jumlah perjalanan terendah yang tercatat, yaitu 2.\n",
    "\n",
    "25% (Q1): Kuartil pertama, nilai yang membagi 25% data terendah. Dalam hal ini, 25% perusahaan taksi memiliki jumlah perjalanan kurang dari atau sama dengan 20.75.\n",
    "\n",
    "50% (Q2): Median atau kuartil kedua, nilai yang membagi data menjadi dua bagian sama besar. Dalam hal ini, 50% perusahaan taksi memiliki jumlah perjalanan kurang dari atau sama dengan 178.5.\n",
    "\n",
    "75% (Q3): Kuartil ketiga, nilai yang membagi 75% data terendah. Dalam hal ini, 75% perusahaan taksi memiliki jumlah perjalanan kurang dari atau sama dengan 2106.5.\n",
    "\n",
    "Max: Nilai maksimum dalam kolom trips_amount. Ini adalah jumlah perjalanan tertinggi yang tercatat, yaitu 19558.\n",
    "\n",
    "Ringkasnya, deskripsi statistik ini memberikan gambaran tentang sebaran dan distribusi jumlah perjalanan untuk perusahaan taksi pada tanggal 15-16 November 2017."
   ]
  },
  {
   "cell_type": "code",
   "execution_count": 6,
   "metadata": {
    "scrolled": true
   },
   "outputs": [
    {
     "name": "stdout",
     "output_type": "stream",
     "text": [
      "<class 'pandas.core.frame.DataFrame'>\n",
      "RangeIndex: 94 entries, 0 to 93\n",
      "Data columns (total 2 columns):\n",
      " #   Column                 Non-Null Count  Dtype  \n",
      "---  ------                 --------------  -----  \n",
      " 0   dropoff_location_name  94 non-null     object \n",
      " 1   average_trips          94 non-null     float64\n",
      "dtypes: float64(1), object(1)\n",
      "memory usage: 1.6+ KB\n"
     ]
    }
   ],
   "source": [
    "df_average_trips.info()"
   ]
  },
  {
   "cell_type": "markdown",
   "metadata": {},
   "source": [
    "Terdapat dua kolom dalam DataFrame ini.\n",
    "\n",
    "Dengan jumlah entri atau baris data sebanyak 94, dan indeksnya memiliki rentang dari 0 hingga 93.\n",
    "\n",
    "dropoff_location_name: Merupakan kolom yang berisi nama wilayah di Chicago tempat perjalanan berakhir. Tidak terdapat nilai yang hilang (non-null count: 94), dan tipe datanya adalah objek (object).\n",
    "\n",
    "average_trips: Merupakan kolom yang berisi jumlah rata-rata perjalanan yang berakhir di setiap wilayah pada bulan November 2017. Tidak terdapat nilai yang hilang (non-null count: 94), dan tipe datanya adalah float64 (bilangan desimal)."
   ]
  },
  {
   "cell_type": "code",
   "execution_count": 7,
   "metadata": {
    "scrolled": true
   },
   "outputs": [
    {
     "data": {
      "text/html": [
       "<div>\n",
       "<style scoped>\n",
       "    .dataframe tbody tr th:only-of-type {\n",
       "        vertical-align: middle;\n",
       "    }\n",
       "\n",
       "    .dataframe tbody tr th {\n",
       "        vertical-align: top;\n",
       "    }\n",
       "\n",
       "    .dataframe thead th {\n",
       "        text-align: right;\n",
       "    }\n",
       "</style>\n",
       "<table border=\"1\" class=\"dataframe\">\n",
       "  <thead>\n",
       "    <tr style=\"text-align: right;\">\n",
       "      <th></th>\n",
       "      <th>dropoff_location_name</th>\n",
       "      <th>average_trips</th>\n",
       "    </tr>\n",
       "  </thead>\n",
       "  <tbody>\n",
       "    <tr>\n",
       "      <th>28</th>\n",
       "      <td>Wicker Park</td>\n",
       "      <td>182.600000</td>\n",
       "    </tr>\n",
       "    <tr>\n",
       "      <th>50</th>\n",
       "      <td>South Shore</td>\n",
       "      <td>40.533333</td>\n",
       "    </tr>\n",
       "    <tr>\n",
       "      <th>3</th>\n",
       "      <td>West Loop</td>\n",
       "      <td>5163.666667</td>\n",
       "    </tr>\n",
       "    <tr>\n",
       "      <th>49</th>\n",
       "      <td>Sauganash,Forest Glen</td>\n",
       "      <td>43.566667</td>\n",
       "    </tr>\n",
       "    <tr>\n",
       "      <th>93</th>\n",
       "      <td>Riverdale</td>\n",
       "      <td>1.800000</td>\n",
       "    </tr>\n",
       "    <tr>\n",
       "      <th>56</th>\n",
       "      <td>Ukrainian Village</td>\n",
       "      <td>27.600000</td>\n",
       "    </tr>\n",
       "    <tr>\n",
       "      <th>86</th>\n",
       "      <td>West Elsdon</td>\n",
       "      <td>5.666667</td>\n",
       "    </tr>\n",
       "    <tr>\n",
       "      <th>31</th>\n",
       "      <td>Lower West Side</td>\n",
       "      <td>143.300000</td>\n",
       "    </tr>\n",
       "    <tr>\n",
       "      <th>75</th>\n",
       "      <td>Calumet Heights</td>\n",
       "      <td>9.566667</td>\n",
       "    </tr>\n",
       "    <tr>\n",
       "      <th>34</th>\n",
       "      <td>Humboldt Park</td>\n",
       "      <td>97.866667</td>\n",
       "    </tr>\n",
       "  </tbody>\n",
       "</table>\n",
       "</div>"
      ],
      "text/plain": [
       "    dropoff_location_name  average_trips\n",
       "28            Wicker Park     182.600000\n",
       "50            South Shore      40.533333\n",
       "3               West Loop    5163.666667\n",
       "49  Sauganash,Forest Glen      43.566667\n",
       "93              Riverdale       1.800000\n",
       "56      Ukrainian Village      27.600000\n",
       "86            West Elsdon       5.666667\n",
       "31        Lower West Side     143.300000\n",
       "75        Calumet Heights       9.566667\n",
       "34          Humboldt Park      97.866667"
      ]
     },
     "execution_count": 7,
     "metadata": {},
     "output_type": "execute_result"
    }
   ],
   "source": [
    "df_average_trips.sample(10)"
   ]
  },
  {
   "cell_type": "markdown",
   "metadata": {},
   "source": [
    "Hasil dari df_average_trips.sample(10) menunjukkan 10 baris acak (sample) dari DataFrame df_average_trips. Berikut adalah penjelasan untuk setiap kolom:\n",
    "\n",
    "dropoff_location_name: Nama wilayah di Chicago tempat perjalanan berakhir. Misalnya, baris pertama menunjukkan bahwa wilayah dengan nama \"Undef\" memiliki rata-rata 3.8 perjalanan yang berakhir pada bulan November 2017.\n",
    "\n",
    "average_trips: Jumlah rata-rata perjalanan yang berakhir di setiap wilayah pada bulan November 2017. Misalnya, baris kedua menunjukkan bahwa wilayah \"Portage Park\" memiliki rata-rata sekitar 119.73 perjalanan."
   ]
  },
  {
   "cell_type": "code",
   "execution_count": 8,
   "metadata": {
    "scrolled": true
   },
   "outputs": [
    {
     "data": {
      "text/html": [
       "<div>\n",
       "<style scoped>\n",
       "    .dataframe tbody tr th:only-of-type {\n",
       "        vertical-align: middle;\n",
       "    }\n",
       "\n",
       "    .dataframe tbody tr th {\n",
       "        vertical-align: top;\n",
       "    }\n",
       "\n",
       "    .dataframe thead th {\n",
       "        text-align: right;\n",
       "    }\n",
       "</style>\n",
       "<table border=\"1\" class=\"dataframe\">\n",
       "  <thead>\n",
       "    <tr style=\"text-align: right;\">\n",
       "      <th></th>\n",
       "      <th>average_trips</th>\n",
       "    </tr>\n",
       "  </thead>\n",
       "  <tbody>\n",
       "    <tr>\n",
       "      <th>count</th>\n",
       "      <td>94.000000</td>\n",
       "    </tr>\n",
       "    <tr>\n",
       "      <th>mean</th>\n",
       "      <td>599.953728</td>\n",
       "    </tr>\n",
       "    <tr>\n",
       "      <th>std</th>\n",
       "      <td>1714.591098</td>\n",
       "    </tr>\n",
       "    <tr>\n",
       "      <th>min</th>\n",
       "      <td>1.800000</td>\n",
       "    </tr>\n",
       "    <tr>\n",
       "      <th>25%</th>\n",
       "      <td>14.266667</td>\n",
       "    </tr>\n",
       "    <tr>\n",
       "      <th>50%</th>\n",
       "      <td>52.016667</td>\n",
       "    </tr>\n",
       "    <tr>\n",
       "      <th>75%</th>\n",
       "      <td>298.858333</td>\n",
       "    </tr>\n",
       "    <tr>\n",
       "      <th>max</th>\n",
       "      <td>10727.466667</td>\n",
       "    </tr>\n",
       "  </tbody>\n",
       "</table>\n",
       "</div>"
      ],
      "text/plain": [
       "       average_trips\n",
       "count      94.000000\n",
       "mean      599.953728\n",
       "std      1714.591098\n",
       "min         1.800000\n",
       "25%        14.266667\n",
       "50%        52.016667\n",
       "75%       298.858333\n",
       "max     10727.466667"
      ]
     },
     "execution_count": 8,
     "metadata": {},
     "output_type": "execute_result"
    }
   ],
   "source": [
    "df_average_trips.describe()"
   ]
  },
  {
   "cell_type": "markdown",
   "metadata": {},
   "source": [
    "Count: Jumlah total entri atau baris dalam kolom average_trips. Dalam hal ini, terdapat 94 entri.\n",
    "\n",
    "Mean: Rata-rata aritmetika dari nilai-nilai dalam kolom average_trips. Rata-rata jumlah rata-rata perjalanan yang berakhir di setiap wilayah pada bulan November 2017 adalah sekitar 599.95.\n",
    "\n",
    "Std (Standard Deviation): Deviasi standar, suatu ukuran seberapa jauh nilai-nilai dalam kolom tersebar dari rata-rata. Nilai ini menunjukkan tingkat variasi dalam jumlah rata-rata perjalanan. Dalam hal ini, deviasi standar adalah sekitar 1714.59.\n",
    "\n",
    "Min: Nilai minimum dalam kolom average_trips. Ini adalah rata-rata perjalanan terendah yang tercatat, yaitu sekitar 1.8.\n",
    "\n",
    "25% (Q1): Kuartil pertama, nilai yang membagi 25% data terendah. Dalam hal ini, 25% wilayah memiliki rata-rata perjalanan kurang dari atau sama dengan 14.27.\n",
    "\n",
    "50% (Q2): Median atau kuartil kedua, nilai yang membagi data menjadi dua bagian sama besar. Dalam hal ini, 50% wilayah memiliki rata-rata perjalanan kurang dari atau sama dengan 52.02.\n",
    "\n",
    "75% (Q3): Kuartil ketiga, nilai yang membagi 75% data terendah. Dalam hal ini, 75% wilayah memiliki rata-rata perjalanan kurang dari atau sama dengan 298.86.\n",
    "\n",
    "Max: Nilai maksimum dalam kolom average_trips. Ini adalah rata-rata perjalanan tertinggi yang tercatat, yaitu sekitar 10727.47.\n",
    "\n",
    "Ringkasnya, deskripsi statistik ini memberikan gambaran tentang sebaran dan distribusi rata-rata perjalanan yang berakhir di setiap wilayah pada bulan November 2017."
   ]
  },
  {
   "cell_type": "code",
   "execution_count": 9,
   "metadata": {
    "scrolled": true
   },
   "outputs": [
    {
     "data": {
      "text/html": [
       "<div>\n",
       "<style scoped>\n",
       "    .dataframe tbody tr th:only-of-type {\n",
       "        vertical-align: middle;\n",
       "    }\n",
       "\n",
       "    .dataframe tbody tr th {\n",
       "        vertical-align: top;\n",
       "    }\n",
       "\n",
       "    .dataframe thead th {\n",
       "        text-align: right;\n",
       "    }\n",
       "</style>\n",
       "<table border=\"1\" class=\"dataframe\">\n",
       "  <thead>\n",
       "    <tr style=\"text-align: right;\">\n",
       "      <th></th>\n",
       "      <th>dropoff_location_name</th>\n",
       "      <th>average_trips</th>\n",
       "    </tr>\n",
       "  </thead>\n",
       "  <tbody>\n",
       "    <tr>\n",
       "      <th>0</th>\n",
       "      <td>Loop</td>\n",
       "      <td>10727.466667</td>\n",
       "    </tr>\n",
       "    <tr>\n",
       "      <th>1</th>\n",
       "      <td>River North</td>\n",
       "      <td>9523.666667</td>\n",
       "    </tr>\n",
       "    <tr>\n",
       "      <th>2</th>\n",
       "      <td>Streeterville</td>\n",
       "      <td>6664.666667</td>\n",
       "    </tr>\n",
       "    <tr>\n",
       "      <th>3</th>\n",
       "      <td>West Loop</td>\n",
       "      <td>5163.666667</td>\n",
       "    </tr>\n",
       "    <tr>\n",
       "      <th>4</th>\n",
       "      <td>O'Hare</td>\n",
       "      <td>2546.900000</td>\n",
       "    </tr>\n",
       "    <tr>\n",
       "      <th>5</th>\n",
       "      <td>Lake View</td>\n",
       "      <td>2420.966667</td>\n",
       "    </tr>\n",
       "    <tr>\n",
       "      <th>6</th>\n",
       "      <td>Grant Park</td>\n",
       "      <td>2068.533333</td>\n",
       "    </tr>\n",
       "    <tr>\n",
       "      <th>7</th>\n",
       "      <td>Museum Campus</td>\n",
       "      <td>1510.000000</td>\n",
       "    </tr>\n",
       "    <tr>\n",
       "      <th>8</th>\n",
       "      <td>Gold Coast</td>\n",
       "      <td>1364.233333</td>\n",
       "    </tr>\n",
       "    <tr>\n",
       "      <th>9</th>\n",
       "      <td>Sheffield &amp; DePaul</td>\n",
       "      <td>1259.766667</td>\n",
       "    </tr>\n",
       "  </tbody>\n",
       "</table>\n",
       "</div>"
      ],
      "text/plain": [
       "  dropoff_location_name  average_trips\n",
       "0                  Loop   10727.466667\n",
       "1           River North    9523.666667\n",
       "2         Streeterville    6664.666667\n",
       "3             West Loop    5163.666667\n",
       "4                O'Hare    2546.900000\n",
       "5             Lake View    2420.966667\n",
       "6            Grant Park    2068.533333\n",
       "7         Museum Campus    1510.000000\n",
       "8            Gold Coast    1364.233333\n",
       "9    Sheffield & DePaul    1259.766667"
      ]
     },
     "execution_count": 9,
     "metadata": {},
     "output_type": "execute_result"
    }
   ],
   "source": [
    "# Identifikasi 10 wilayah teratas\n",
    "top_10_dropoff_locations = df_average_trips.nlargest(10, 'average_trips')[['dropoff_location_name', 'average_trips']]\n",
    "top_10_dropoff_locations"
   ]
  },
  {
   "cell_type": "code",
   "execution_count": 10,
   "metadata": {
    "scrolled": true
   },
   "outputs": [
    {
     "data": {
      "image/png": "[encoded data removed]",
      "text/plain": [
       "<Figure size 864x432 with 1 Axes>"
      ]
     },
     "metadata": {
      "needs_background": "light"
     },
     "output_type": "display_data"
    }
   ],
   "source": [
    "# Membuat grafik\n",
    "plt.figure(figsize=(12, 6))\n",
    "plt.bar(df_trips_amount['company_name'], df_trips_amount['trips_amount'], color='blue', alpha=0.7, label='Trips Amount')\n",
    "plt.bar(top_10_dropoff_locations['dropoff_location_name'], top_10_dropoff_locations['average_trips'], color='green', alpha=0.7, label='Average Trips')\n",
    "plt.xlabel('Company Name / Dropoff Location')\n",
    "plt.ylabel('Number of Trips / Average Trips')\n",
    "plt.title('Comparison of Trips Amount and Average Trips')\n",
    "plt.xticks(rotation=45, ha='right')\n",
    "plt.legend()\n",
    "plt.show()"
   ]
  },
  {
   "cell_type": "markdown",
   "metadata": {},
   "source": [
    "Kesimpulan nya, untuk 10 wilayah teratas berdasarkan nilai rata-rata perjalanan yang berakhir di setiap wilayah pada bulan November 2017 yaitu:\n",
    "\n",
    "dropoff_location_name: Nama wilayah di Chicago tempat perjalanan berakhir. Terlihat, baris pertama menunjukkan bahwa wilayah \"Loop\" memiliki rata-rata perjalanan sekitar 10727.47 pada bulan November 2017.\n",
    "\n",
    "average_trips: Jumlah rata-rata perjalanan yang berakhir di setiap wilayah pada bulan November 2017. Terlihat, baris kedua menunjukkan bahwa wilayah \"River North\" memiliki rata-rata perjalanan sekitar 9523.67.\n",
    "\n",
    "Jelas nya, DataFrame top_10_dropoff_locations menunjukkan 10 wilayah teratas berdasarkan rata-rata perjalanan yang berakhir di setiap wilayah pada bulan November 2017, dan hasilnya diurutkan berdasarkan nilai rata-rata perjalanan dari yang tertinggi ke yang terendah. Wilayah \"Loop\" memiliki rata-rata perjalanan paling tinggi yaitu sekitar 10727.47"
   ]
  },
  {
   "cell_type": "code",
   "execution_count": 11,
   "metadata": {},
   "outputs": [],
   "source": [
    "# Baca data dari file CSV\n",
    "file_path_07 = '/datasets/project_sql_result_07.csv'\n",
    "df_hypothesis = pd.read_csv(file_path_07)"
   ]
  },
  {
   "cell_type": "code",
   "execution_count": 12,
   "metadata": {
    "scrolled": true
   },
   "outputs": [
    {
     "name": "stdout",
     "output_type": "stream",
     "text": [
      "<class 'pandas.core.frame.DataFrame'>\n",
      "RangeIndex: 1068 entries, 0 to 1067\n",
      "Data columns (total 3 columns):\n",
      " #   Column              Non-Null Count  Dtype  \n",
      "---  ------              --------------  -----  \n",
      " 0   start_ts            1068 non-null   object \n",
      " 1   weather_conditions  1068 non-null   object \n",
      " 2   duration_seconds    1068 non-null   float64\n",
      "dtypes: float64(1), object(2)\n",
      "memory usage: 25.2+ KB\n"
     ]
    }
   ],
   "source": [
    "df_hypothesis.info()"
   ]
  },
  {
   "cell_type": "markdown",
   "metadata": {},
   "source": [
    "Pada info tersebut menunjukkan bahwa indeks DataFrame ini adalah RangeIndex, dengan jumlah entri atau baris data sebanyak 1068, dan indeksnya memiliki rentang dari 0 hingga 1067.\n",
    "\n",
    "Terdapat tiga kolom dalam DataFrame ini.\n",
    "\n",
    "start_ts: Merupakan kolom yang berisi tanggal dan waktu penjemputan. Tidak terdapat nilai yang hilang (non-null count: 1068), dan tipe datanya adalah objek (object).\n",
    "\n",
    "weather_conditions: Merupakan kolom yang berisi kondisi cuaca saat perjalanan dimulai. Tidak terdapat nilai yang hilang (non-null count: 1068), dan tipe datanya adalah objek (object).\n",
    "\n",
    "duration_seconds: Merupakan kolom yang berisi durasi perjalanan dalam satuan detik. Tidak terdapat nilai yang hilang (non-null count: 1068), dan tipe datanya adalah float64 (bilangan desimal).\n",
    "\n"
   ]
  },
  {
   "cell_type": "code",
   "execution_count": 13,
   "metadata": {
    "scrolled": true
   },
   "outputs": [
    {
     "data": {
      "text/html": [
       "<div>\n",
       "<style scoped>\n",
       "    .dataframe tbody tr th:only-of-type {\n",
       "        vertical-align: middle;\n",
       "    }\n",
       "\n",
       "    .dataframe tbody tr th {\n",
       "        vertical-align: top;\n",
       "    }\n",
       "\n",
       "    .dataframe thead th {\n",
       "        text-align: right;\n",
       "    }\n",
       "</style>\n",
       "<table border=\"1\" class=\"dataframe\">\n",
       "  <thead>\n",
       "    <tr style=\"text-align: right;\">\n",
       "      <th></th>\n",
       "      <th>start_ts</th>\n",
       "      <th>weather_conditions</th>\n",
       "      <th>duration_seconds</th>\n",
       "    </tr>\n",
       "  </thead>\n",
       "  <tbody>\n",
       "    <tr>\n",
       "      <th>442</th>\n",
       "      <td>2017-11-11 08:00:00</td>\n",
       "      <td>Good</td>\n",
       "      <td>1205.0</td>\n",
       "    </tr>\n",
       "    <tr>\n",
       "      <th>850</th>\n",
       "      <td>2017-11-25 11:00:00</td>\n",
       "      <td>Good</td>\n",
       "      <td>1265.0</td>\n",
       "    </tr>\n",
       "    <tr>\n",
       "      <th>593</th>\n",
       "      <td>2017-11-11 12:00:00</td>\n",
       "      <td>Good</td>\n",
       "      <td>2015.0</td>\n",
       "    </tr>\n",
       "    <tr>\n",
       "      <th>1052</th>\n",
       "      <td>2017-11-18 15:00:00</td>\n",
       "      <td>Good</td>\n",
       "      <td>3240.0</td>\n",
       "    </tr>\n",
       "    <tr>\n",
       "      <th>325</th>\n",
       "      <td>2017-11-04 11:00:00</td>\n",
       "      <td>Good</td>\n",
       "      <td>2611.0</td>\n",
       "    </tr>\n",
       "    <tr>\n",
       "      <th>357</th>\n",
       "      <td>2017-11-04 05:00:00</td>\n",
       "      <td>Good</td>\n",
       "      <td>1320.0</td>\n",
       "    </tr>\n",
       "    <tr>\n",
       "      <th>732</th>\n",
       "      <td>2017-11-18 13:00:00</td>\n",
       "      <td>Bad</td>\n",
       "      <td>3120.0</td>\n",
       "    </tr>\n",
       "    <tr>\n",
       "      <th>592</th>\n",
       "      <td>2017-11-11 10:00:00</td>\n",
       "      <td>Good</td>\n",
       "      <td>1622.0</td>\n",
       "    </tr>\n",
       "    <tr>\n",
       "      <th>836</th>\n",
       "      <td>2017-11-11 07:00:00</td>\n",
       "      <td>Good</td>\n",
       "      <td>1348.0</td>\n",
       "    </tr>\n",
       "    <tr>\n",
       "      <th>117</th>\n",
       "      <td>2017-11-11 07:00:00</td>\n",
       "      <td>Good</td>\n",
       "      <td>1380.0</td>\n",
       "    </tr>\n",
       "  </tbody>\n",
       "</table>\n",
       "</div>"
      ],
      "text/plain": [
       "                 start_ts weather_conditions  duration_seconds\n",
       "442   2017-11-11 08:00:00               Good            1205.0\n",
       "850   2017-11-25 11:00:00               Good            1265.0\n",
       "593   2017-11-11 12:00:00               Good            2015.0\n",
       "1052  2017-11-18 15:00:00               Good            3240.0\n",
       "325   2017-11-04 11:00:00               Good            2611.0\n",
       "357   2017-11-04 05:00:00               Good            1320.0\n",
       "732   2017-11-18 13:00:00                Bad            3120.0\n",
       "592   2017-11-11 10:00:00               Good            1622.0\n",
       "836   2017-11-11 07:00:00               Good            1348.0\n",
       "117   2017-11-11 07:00:00               Good            1380.0"
      ]
     },
     "execution_count": 13,
     "metadata": {},
     "output_type": "execute_result"
    }
   ],
   "source": [
    "df_hypothesis.sample(10)"
   ]
  },
  {
   "cell_type": "markdown",
   "metadata": {},
   "source": [
    "Hasil dari df_hypothesis.sample(10) menunjukkan 10 baris acak (sample) dari DataFrame df_hypothesis. Berikut adalah penjelasan untuk setiap kolom:\n",
    "\n",
    "start_ts: Kolom ini berisi tanggal dan waktu penjemputan. Misalnya, baris pertama menunjukkan bahwa perjalanan dimulai pada tanggal 2017-11-04 pukul 14:00:00.\n",
    "\n",
    "weather_conditions: Kolom ini berisi kondisi cuaca saat perjalanan dimulai. Misalnya, baris kedua menunjukkan bahwa cuaca saat perjalanan dimulai dikategorikan sebagai \"Good\" (baik).\n",
    "\n",
    "duration_seconds: Kolom ini berisi durasi perjalanan dalam satuan detik. Misalnya, baris ketiga menunjukkan bahwa durasi perjalanan adalah 1620 detik."
   ]
  },
  {
   "cell_type": "code",
   "execution_count": 14,
   "metadata": {
    "scrolled": true
   },
   "outputs": [
    {
     "data": {
      "text/html": [
       "<div>\n",
       "<style scoped>\n",
       "    .dataframe tbody tr th:only-of-type {\n",
       "        vertical-align: middle;\n",
       "    }\n",
       "\n",
       "    .dataframe tbody tr th {\n",
       "        vertical-align: top;\n",
       "    }\n",
       "\n",
       "    .dataframe thead th {\n",
       "        text-align: right;\n",
       "    }\n",
       "</style>\n",
       "<table border=\"1\" class=\"dataframe\">\n",
       "  <thead>\n",
       "    <tr style=\"text-align: right;\">\n",
       "      <th></th>\n",
       "      <th>duration_seconds</th>\n",
       "    </tr>\n",
       "  </thead>\n",
       "  <tbody>\n",
       "    <tr>\n",
       "      <th>count</th>\n",
       "      <td>1068.000000</td>\n",
       "    </tr>\n",
       "    <tr>\n",
       "      <th>mean</th>\n",
       "      <td>2071.731273</td>\n",
       "    </tr>\n",
       "    <tr>\n",
       "      <th>std</th>\n",
       "      <td>769.461125</td>\n",
       "    </tr>\n",
       "    <tr>\n",
       "      <th>min</th>\n",
       "      <td>0.000000</td>\n",
       "    </tr>\n",
       "    <tr>\n",
       "      <th>25%</th>\n",
       "      <td>1438.250000</td>\n",
       "    </tr>\n",
       "    <tr>\n",
       "      <th>50%</th>\n",
       "      <td>1980.000000</td>\n",
       "    </tr>\n",
       "    <tr>\n",
       "      <th>75%</th>\n",
       "      <td>2580.000000</td>\n",
       "    </tr>\n",
       "    <tr>\n",
       "      <th>max</th>\n",
       "      <td>7440.000000</td>\n",
       "    </tr>\n",
       "  </tbody>\n",
       "</table>\n",
       "</div>"
      ],
      "text/plain": [
       "       duration_seconds\n",
       "count       1068.000000\n",
       "mean        2071.731273\n",
       "std          769.461125\n",
       "min            0.000000\n",
       "25%         1438.250000\n",
       "50%         1980.000000\n",
       "75%         2580.000000\n",
       "max         7440.000000"
      ]
     },
     "execution_count": 14,
     "metadata": {},
     "output_type": "execute_result"
    }
   ],
   "source": [
    "df_hypothesis.describe()"
   ]
  },
  {
   "cell_type": "markdown",
   "metadata": {},
   "source": [
    "Count: Jumlah total entri atau baris dalam kolom duration_seconds. Dalam hal ini, terdapat 1068 entri.\n",
    "\n",
    "Mean: Rata-rata aritmetika dari nilai-nilai dalam kolom duration_seconds. Rata-rata durasi perjalanan adalah sekitar 2071.73 detik.\n",
    "\n",
    "Std (Standard Deviation): Deviasi standar, suatu ukuran seberapa jauh nilai-nilai dalam kolom tersebar dari rata-rata. Nilai ini menunjukkan tingkat variasi dalam durasi perjalanan. Dalam hal ini, deviasi standar adalah sekitar 769.46 detik.\n",
    "\n",
    "Min: Nilai minimum dalam kolom duration_seconds. Ini adalah durasi perjalanan terpendek yang tercatat, yaitu 0 detik. Mungkin ada perjalanan yang memiliki durasi sangat singkat atau langsung dianggap sebagai perjalanan tanpa durasi.\n",
    "\n",
    "25% (Q1): Kuartil pertama, nilai yang membagi 25% data terendah. Dalam hal ini, 25% perjalanan memiliki durasi kurang dari atau sama dengan 1438.25 detik.\n",
    "\n",
    "50% (Q2): Median atau kuartil kedua, nilai yang membagi data menjadi dua bagian sama besar. Dalam hal ini, 50% perjalanan memiliki durasi kurang dari atau sama dengan 1980 detik.\n",
    "\n",
    "75% (Q3): Kuartil ketiga, nilai yang membagi 75% data terendah. Dalam hal ini, 75% perjalanan memiliki durasi kurang dari atau sama dengan 2580 detik.\n",
    "\n",
    "Max: Nilai maksimum dalam kolom duration_seconds. Ini adalah durasi perjalanan tertinggi yang tercatat, yaitu 7440 detik.\n",
    "\n",
    "Ringkasnya, deskripsi statistik ini memberikan gambaran tentang sebaran dan distribusi durasi perjalanan dalam dataset. Durasi perjalanan berkisar dari 0 detik hingga 7440 detik, dengan rata-rata durasi perjalanan sekitar 2071.73 detik.\n",
    "\n",
    "\n",
    "\n",
    "\n",
    "\n",
    "\n"
   ]
  },
  {
   "cell_type": "code",
   "execution_count": 15,
   "metadata": {
    "scrolled": true
   },
   "outputs": [
    {
     "data": {
      "text/plain": [
       "6     2969.0\n",
       "30    1980.0\n",
       "34    2460.0\n",
       "51    2760.0\n",
       "52    2460.0\n",
       "54    1440.0\n",
       "65    2363.0\n",
       "70    3000.0\n",
       "78    3120.0\n",
       "92    1511.0\n",
       "Name: duration_seconds, dtype: float64"
      ]
     },
     "execution_count": 15,
     "metadata": {},
     "output_type": "execute_result"
    }
   ],
   "source": [
    "# Pisahkan data untuk hujan dan non-hujan\n",
    "rain_data = df_hypothesis[df_hypothesis['weather_conditions'] == 'Bad']['duration_seconds']\n",
    "rain_data.head(10)"
   ]
  },
  {
   "cell_type": "markdown",
   "metadata": {},
   "source": [
    "Kode tersebut mengambil sepuluh data pertama dari kolom 'duration_seconds' pada DataFrame df_hypothesis di mana kondisi cuaca saat perjalanan dimulai adalah 'Bad' (cuaca buruk). Berikut adalah penjelasan hasil dari rain_data.head(10):\n",
    "\n",
    "duration_seconds: Merupakan kolom yang berisi durasi perjalanan dalam satuan detik pada perjalanan yang dimulai saat cuaca buruk ('Bad').\n",
    "\n",
    "Baris pertama menunjukkan durasi perjalanan sebesar 2969 detik.\n",
    "\n",
    "Baris kedua menunjukkan durasi perjalanan sebesar 1980 detik.\n",
    "\n",
    "Baris ketiga menunjukkan durasi perjalanan sebesar 2460 detik.\n",
    "\n",
    "Dan seterusnya.\n",
    "\n",
    "Data ini memberikan gambaran tentang durasi perjalanan pada saat cuaca buruk. Durasi perjalanan pada kondisi cuaca buruk dapat bervariasi, dan contoh di atas menunjukkan beberapa nilai detik dari sepuluh perjalanan pertama yang memenuhi kondisi tersebut dalam dataset."
   ]
  },
  {
   "cell_type": "code",
   "execution_count": 16,
   "metadata": {
    "scrolled": false
   },
   "outputs": [
    {
     "data": {
      "text/plain": [
       "0     2410.0\n",
       "1     1920.0\n",
       "2     1543.0\n",
       "3     2512.0\n",
       "4     1440.0\n",
       "5     1320.0\n",
       "7     2280.0\n",
       "8     2460.0\n",
       "9     2040.0\n",
       "10    1500.0\n",
       "Name: duration_seconds, dtype: float64"
      ]
     },
     "execution_count": 16,
     "metadata": {},
     "output_type": "execute_result"
    }
   ],
   "source": [
    "non_rain_data = df_hypothesis[df_hypothesis['weather_conditions'] == 'Good']['duration_seconds']\n",
    "non_rain_data.head(10)"
   ]
  },
  {
   "cell_type": "markdown",
   "metadata": {},
   "source": [
    "DataFrame df_hypothesis di mana kondisi cuaca saat perjalanan dimulai adalah 'Good' (cuaca baik). Berikut adalah penjelasan hasil dari non_rain_data.head(10):\n",
    "\n",
    "duration_seconds: Merupakan kolom yang berisi durasi perjalanan dalam satuan detik pada perjalanan yang dimulai saat cuaca baik ('Good').\n",
    "\n",
    "Baris pertama menunjukkan durasi perjalanan sebesar 2040 detik.\n",
    "\n",
    "Baris kedua menunjukkan durasi perjalanan sebesar 1380 detik.\n",
    "\n",
    "Baris ketiga menunjukkan durasi perjalanan sebesar 1440 detik.\n",
    "\n",
    "Dan seterusnya.\n",
    "\n",
    "Data ini memberikan gambaran tentang durasi perjalanan pada saat cuaca baik. Durasi perjalanan pada kondisi cuaca baik dapat bervariasi, dan contoh di atas menunjukkan beberapa nilai detik dari sepuluh perjalanan pertama yang memenuhi kondisi tersebut dalam dataset. Setiap kali kode dijalankan, hasilnya dapat berbeda karena pengambilan data pertama dari suatu kondisi dapat memberikan variasi yang tidak tetap."
   ]
  },
  {
   "cell_type": "code",
   "execution_count": 17,
   "metadata": {},
   "outputs": [
    {
     "name": "stdout",
     "output_type": "stream",
     "text": [
      "Hasil uji hipotesis: Terdapat cukup bukti untuk menolak hipotesis nol.\n",
      "Durasi rata-rata perjalanan dari Loop ke Bandara Internasional O'Hare berubah saat hujan di hari Sabtu.\n"
     ]
    }
   ],
   "source": [
    "# Uji hipotesis\n",
    "alpha = 0.05  # tingkat signifikansi\n",
    "statistic, p_value = ttest_ind(rain_data, non_rain_data, equal_var=False)\n",
    "\n",
    "# Rumuskan hipotesis\n",
    "null_hypothesis = \"Durasi rata-rata perjalanan dari Loop ke Bandara Internasional O'Hare tidak berubah saat hujan di hari Sabtu.\"\n",
    "alternative_hypothesis = \"Durasi rata-rata perjalanan dari Loop ke Bandara Internasional O'Hare berubah saat hujan di hari Sabtu.\"\n",
    "\n",
    "# Evaluasi hasil uji hipotesis\n",
    "if p_value < alpha:\n",
    "    print(f\"Hasil uji hipotesis: Terdapat cukup bukti untuk menolak hipotesis nol.\\n{alternative_hypothesis}\")\n",
    "else:\n",
    "    print(f\"Hasil uji hipotesis: Tidak cukup bukti untuk menolak hipotesis nol.\\n{null_hypothesis}\")"
   ]
  },
  {
   "cell_type": "markdown",
   "metadata": {},
   "source": [
    "Uji hipotesis menggunakan uji t independen (independent t-test) antara dua kelompok data, yaitu durasi perjalanan saat cuaca buruk ('rain_data') dan durasi perjalanan saat cuaca baik ('non_rain_data'). Berikut adalah penjelasan hasil dari uji hipotesis:\n",
    "\n",
    "Tingkat Signifikansi (alpha): Nilai alpha atau tingkat signifikansi yang dipilih adalah 0.05.\n",
    "\n",
    "Uji T Independen: Uji t independen digunakan untuk membandingkan rata-rata dua kelompok data yang independen satu sama lain (dalam hal ini, durasi perjalanan saat cuaca buruk dan cuaca baik).\n",
    "\n",
    "Hasil Uji Statistik dan P-Value: Statistik uji (statistic) dan p-value dihitung menggunakan fungsi ttest_ind dari modul scipy.stats. Statistik uji digunakan untuk membandingkan perbedaan rata-rata antara dua kelompok, sedangkan p-value memberikan informasi tentang seberapa signifikan perbedaan tersebut.\n",
    "\n",
    "Rumusan Hipotesis:\n",
    "\n",
    "Hipotesis Nol (Null Hypothesis): Durasi rata-rata perjalanan dari Loop ke Bandara Internasional O'Hare tidak berubah saat hujan di hari Sabtu.\n",
    "\n",
    "Hipotesis Alternatif (Alternative Hypothesis): Durasi rata-rata perjalanan dari Loop ke Bandara Internasional O'Hare berubah saat hujan di hari Sabtu.\n",
    "\n",
    "Evaluasi Hasil Uji Hipotesis: Jika p-value lebih kecil dari tingkat signifikansi (alpha), maka terdapat cukup bukti untuk menolak hipotesis nol. Sebaliknya, jika p-value lebih besar atau sama dengan alpha, maka tidak cukup bukti untuk menolak hipotesis nol.\n",
    "\n",
    "Hasil: P-value dari uji hipotesis ini lebih kecil dari alpha (0.05), sehingga terdapat cukup bukti untuk menolak hipotesis nol. Oleh karena itu, kita menyimpulkan bahwa durasi rata-rata perjalanan dari Loop ke Bandara Internasional O'Hare berubah saat hujan di hari Sabtu."
   ]
  },
  {
   "cell_type": "markdown",
   "metadata": {},
   "source": [
    "## Kesimpulan akhir :\n",
    "\n",
    "\n",
    "\n",
    "1. DataFrame df_trips_amount:\n",
    "\n",
    "DataFrame ini berisi informasi tentang jumlah perjalanan untuk setiap perusahaan taksi pada tanggal 15-16 November 2017.\n",
    "Tidak terdapat nilai yang hilang pada kedua kolomnya, dan tipe data sesuai dengan kontennya.\n",
    "Statistik deskriptif menunjukkan variasi yang signifikan dalam jumlah perjalanan antar perusahaan taksi.\n",
    "\n",
    "2. DataFrame df_average_trips:\n",
    "\n",
    "DataFrame ini berisi data tentang jumlah rata-rata perjalanan yang berakhir di setiap wilayah pada bulan November 2017.\n",
    "Tidak terdapat nilai yang hilang pada kedua kolomnya, dan tipe data sesuai dengan kontennya.\n",
    "Statistik deskriptif menunjukkan variasi yang besar dalam rata-rata perjalanan antar wilayah di Chicago.\n",
    "\n",
    "3. DataFrame df_hypothesis:\n",
    "\n",
    "DataFrame ini mencakup informasi tentang perjalanan dari Loop ke Bandara Internasional O'Hare pada bulan November 2017.\n",
    "Tidak terdapat nilai yang hilang pada semua kolomnya, dan tipe data sesuai dengan kontennya.\n",
    "Statistik deskriptif dari durasi perjalanan menunjukkan variasi yang signifikan.\n",
    "\n",
    "4. Uji Hipotesis:\n",
    "\n",
    "Uji hipotesis dilakukan untuk mengetahui apakah durasi rata-rata perjalanan dari Loop ke Bandara Internasional O'Hare berubah saat hujan di hari Sabtu.\n",
    "Hipotesis nol menyatakan bahwa tidak ada perubahan, sementara hipotesis alternatif menyatakan bahwa ada perubahan.\n",
    "Dengan menggunakan uji t independen, hasilnya menunjukkan bahwa durasi rata-rata perjalanan berubah saat hujan di hari Sabtu dengan tingkat signifikansi 0.05.\n",
    "\n",
    "5. Top 10 Wilayah Berdasarkan Rata-Rata Perjalanan:\n",
    "\n",
    "DataFrame top_10_dropoff_locations menunjukkan 10 wilayah teratas berdasarkan rata-rata perjalanan yang berakhir pada bulan November 2017.\n",
    "Wilayah \"Loop\" memiliki rata-rata perjalanan paling tinggi.\n",
    "\n",
    "Dengan demikian, proyek ini memberikan pemahaman yang baik tentang distribusi perjalanan taksi, rata-rata perjalanan di berbagai wilayah, serta uji hipotesis terkait durasi perjalanan saat kondisi cuaca berubah."
   ]
  },
  {
   "cell_type": "code",
   "execution_count": null,
   "metadata": {},
   "outputs": [],
   "source": []
  }
 ],
 "metadata": {
  "kernelspec": {
   "display_name": "Python 3 (ipykernel)",
   "language": "python",
   "name": "python3"
  },
  "language_info": {
   "codemirror_mode": {
    "name": "ipython",
    "version": 3
   },
   "file_extension": ".py",
   "mimetype": "text/x-python",
   "name": "python",
   "nbconvert_exporter": "python",
   "pygments_lexer": "ipython3",
   "version": "3.9.19"
  },
  "toc": {
   "base_numbering": 1,
   "nav_menu": {},
   "number_sections": true,
   "sideBar": true,
   "skip_h1_title": true,
   "title_cell": "Table of Contents",
   "title_sidebar": "Contents",
   "toc_cell": false,
   "toc_position": {},
   "toc_section_display": true,
   "toc_window_display": false
  }
 },
 "nbformat": 4,
 "nbformat_minor": 2
}
